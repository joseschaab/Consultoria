#!/usr/bin/env python
# coding: utf-8

# CONTRATO DE SERVICIOS DE CONSULTORIA
# ====================================

# CONTRATOS COMERCIALES MODERNOS. Juan M. Farina. Ed. Astrea.-

# Concepto y Finalidad
# ====================

# Mediante este contrato la consultora se obliga a suminsitrar a la parte consultante una informacion o dictamen sobre: 
# - Alguna cuestión tecnológica 
# - Comercial
# - Financiera
# - Legal 
# - O de otro orden que requiera un analasis, conclusión basada en conocimientos científicos o técnicos


# Transeferencia de tecnológia
# ============================

# No se limita exclusivamente a la licencia para el uso industrial de una patente
# 
# Puede consistir también en la formación técnica o actualización profesional del personal dependiente del comitente


# Partes
# ======

# En la práctica se llama **consultora** a la parte que en realidad es la **consultada**.
# 
# La otra parte es la **consultante** o también, la **asistida**.
#
# La ley 22.460 contiene, además
# - **Consultor**: Todo profesional universitario altamente calificado que a título individual presta servicios de consultoría
# - **Consorcio**: Asociación accidental o en participación de firmas consultoras, o de firmas consultoras con consultores 
#                  o de dos o más consultores entre sí, para llevar a cabo tareas de consultoría.
# - **Firma Consultora**: toda firma consultora o consultor que reúna los requisitos que establece el régimen de la ley 18.875 
#                         y los que se fijen en la reglamentación de la presente ley


# Obligaciones de la consultora
# =============================

# Formular el dictamen dentro de un plazo determinado.

# - Descripción de los elementos a evaluar
# - Factores que han sido considerados
# - Cálculos de probabilidades por medios técnicos, con la mayor aproximación o rigurosidad posible
# - Fundamentos básicos conforme a las circunstancias ponderables y a las características específicas del objeto sometido a estudio
# - Conclusiones


# Obligación de guardar secreto
# =============================

# Es conveniente que las partes acuerden, en forma recíproca, guardar secreto de los datos, informaciones, etc.

# No se prevé un plazo final para esta obligación recíproca de guardar secreto, por cuyo motivo debe considerarse asumida por tiempo indeterminado.


# Propiedad intelectual
# =====================

# Se suele pactar que la consultora pueda disponer de aquellos resultados obtenidos, siempre que no tengan características específicas 
# como para ser considerados aptos sólo para satisfacer exclusivamente las exigencias de ese comitente..


# Obligación de brindar información aclaratoria
# =============================================

# Ambas partes deben participar para mantener el dictamen actualizado

# - Toda la información debe estar actualizada
# - Informar sobre las nuevas circunstancias que puedan influir en el proyecto
# - Debe brindar las instrucciones necesarias para la puesta en marcha del proyecto o para su reordenamiento.


# Estipulaciones de práctica
# ==========================

# No existen reglas a este respecto, pero de los usos surge la conveniencia de prever:
# 
# - Idioma
# - Número de ejemplares 
# - Las citas o fuentes de datos serán lo suficientemente precisas como para que puedan ser consultadas por el interesado, directamente en su lugar de origen
# - Plazo para la entrega de las conclusiones finales
# - Honorarios pactados y modo de pago


# Plazo de contrato
# =================

# Puede pactarse un plazo único para la presentación del dictamen, o bien plazos escalonados tanto para la consultante como para la consultora.


# Colaboración que la consultante debe prestar a la consultora
# ============================================================

# La consultora, para cumplir su cometido, necesitará la adecuada colaboración de la asistida, la que puede consistir en suministrar elementos objetivos o bien trabajo personal.


# Responsabilidad
# ===============

# - **Consultora**: La consultora se responsabiliza de la autenticidad de las firmas de los profesionales personalizados que suscriban el informe y el dictamen.
# - **Consultatne**:  Debe proporcionar a la consultora con exactitud, fidelidad y sin retaceos, la información necesaria para que ésta cumpla su cometido


# Cláusulas liberatorias de responsabilidad civil
# ===============================================

# Las consultoras imponen en sus contratos cláusulas exonerativas de responsabilidad.

# Sólo aceptan discutir esta responsabilidad si la consultante probare dolo o culpa grave en la obtención y manejo o procesamiento de los datos.


# Naturaleza jurídica
# ===================

# Dentro de las figuras clásicas, es ubicable, bien como una subespecie de la locación de obra.
 
# Aspectos como:
# - La transferencia de tecnología
# - Lo relativo a la propiedad intelectual 
# - La obligación de guardar secreto

# **NO** aparecen en el contrato de locación de obra común.

