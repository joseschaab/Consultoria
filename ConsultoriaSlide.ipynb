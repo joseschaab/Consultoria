{
 "cells": [
  {
   "cell_type": "markdown",
   "metadata": {
    "slideshow": {
     "slide_type": "slide"
    }
   },
   "source": [
    "## CONTRATO DE SERVICIOS DE CONSULTORIA\n",
    "\n",
    "\n",
    "Bibliografía: CONTRATOS COMERCIALES MODERNOS. Juan M. Farina. Ed. Astrea.-"
   ]
  },
  {
   "cell_type": "markdown",
   "metadata": {
    "slideshow": {
     "slide_type": "slide"
    }
   },
   "source": [
    "### Concepto y Finalidad\n",
    "\n",
    " Mediante este contrato la consultora se obliga a suminsitrar a la parte consultante una informacion o dictamen sobre: \n",
    " \n",
    "- Alguna cuestión tecnológica \n",
    "- Comercial\n",
    "- Financiera\n",
    "- Legal \n",
    "- O de otro orden que requiera un analasis, conclusión basada en conocimientos científicos o técnicos\n"
   ]
  },
  {
   "cell_type": "markdown",
   "metadata": {
    "slideshow": {
     "slide_type": "slide"
    }
   },
   "source": [
    "### Transeferencia de tecnológia\n",
    "\n",
    "No se limita exclusivamente a la licencia para el uso industrial de una patente\n",
    "\n",
    "Puede consistir también en la formación técnica o actualización profesional del personal dependiente del comitente\n"
   ]
  },
  {
   "cell_type": "markdown",
   "metadata": {
    "slideshow": {
     "slide_type": "slide"
    }
   },
   "source": [
    "### Partes\n",
    "\n",
    "En la práctica se llama **consultora** a la parte que en realidad es la **consultada**.\n",
    "\n",
    "La otra parte es la **consultante** o también, la **asistida**.\n",
    "\n",
    "La ley 22.460 contiene, además\n",
    "- **Consultor**: Todo profesional universitario altamente calificado que a título individual presta servicios de consultoría\n",
    "- **Consorcio**: Asociación accidental o en participación de firmas consultoras, o de firmas consultoras con consultores o de dos o más consultores entre sí, para llevar a cabo tareas de consultoría.\n",
    "- **Firma Consultora**: toda firma consultora o consultor que reúna los requisitos que establece el régimen de la ley 18.875 y los que se fijen en la reglamentación de la presente ley\n"
   ]
  },
  {
   "cell_type": "markdown",
   "metadata": {
    "slideshow": {
     "slide_type": "slide"
    }
   },
   "source": [
    "### Obligaciones de la consultora\n",
    "\n",
    "Formular el dictamen dentro de un plazo determinado.\n",
    "\n",
    "- Descripción de los elementos a evaluar\n",
    "- Factores que han sido considerados\n",
    "- Cálculos de probabilidades por medios técnicos, con la mayor aproximación o rigurosidad posible\n",
    "- Fundamentos básicos conforme a las circunstancias ponderables y a las características específicas del objeto sometido a estudio\n",
    "- Conclusiones"
   ]
  },
  {
   "cell_type": "markdown",
   "metadata": {
    "slideshow": {
     "slide_type": "slide"
    }
   },
   "source": [
    "### Obligación de guardar secreto\n",
    "\n",
    "Es conveniente que las partes acuerden, en forma recíproca, guardar secreto de los datos, informaciones, etc.\n",
    "\n",
    "No se prevé un plazo final para esta obligación recíproca de guardar secreto, por cuyo motivo debe considerarse asumida por tiempo indeterminado.\n"
   ]
  },
  {
   "cell_type": "markdown",
   "metadata": {
    "slideshow": {
     "slide_type": "slide"
    }
   },
   "source": [
    "### Propiedad intelectual\n",
    "\n",
    "Se suele pactar que la consultora pueda disponer de aquellos resultados obtenidos, siempre que no tengan características específicas como para ser considerados aptos sólo para satisfacer exclusivamente las exigencias de ese comitente.\n"
   ]
  },
  {
   "cell_type": "markdown",
   "metadata": {
    "slideshow": {
     "slide_type": "slide"
    }
   },
   "source": [
    "### Obligación de brindar información aclaratoria\n",
    "\n",
    "Ambas partes deben participar para mantener el dictamen actualizado\n",
    "\n",
    "- Toda la información debe estar actualizada\n",
    "- Informar sobre las nuevas circunstancias que puedan influir en el proyecto\n",
    "- Debe brindar las instrucciones necesarias para la puesta en marcha del proyecto o para su reordenamiento.\n"
   ]
  },
  {
   "cell_type": "markdown",
   "metadata": {
    "slideshow": {
     "slide_type": "slide"
    }
   },
   "source": [
    "### Estipulaciones de práctica\n",
    "\n",
    "No existen reglas a este respecto, pero de los usos surge la conveniencia de prever:\n",
    "\n",
    "- Idioma\n",
    "- Número de ejemplares \n",
    "- Las citas o fuentes de datos serán lo suficientemente precisas como para que puedan ser consultadas por el interesado, directamente en su lugar de origen\n",
    "- Plazo para la entrega de las conclusiones finales\n",
    "- Honorarios pactados y modo de pago\n"
   ]
  },
  {
   "cell_type": "markdown",
   "metadata": {
    "slideshow": {
     "slide_type": "slide"
    }
   },
   "source": [
    "### Plazo de contrato\n",
    "\n",
    "Puede pactarse un plazo único para la presentación del dictamen, o bien plazos escalonados tanto para la consultante como para la consultora."
   ]
  },
  {
   "cell_type": "markdown",
   "metadata": {
    "slideshow": {
     "slide_type": "slide"
    }
   },
   "source": [
    "### Colaboración que la consultante debe prestar a la consultora\n",
    "\n",
    "La consultora, para cumplir su cometido, necesitará la adecuada colaboración de la asistida, la que puede consistir en suministrar elementos objetivos o bien trabajo personal.\n"
   ]
  },
  {
   "cell_type": "markdown",
   "metadata": {
    "slideshow": {
     "slide_type": "slide"
    }
   },
   "source": [
    "### Responsabilidad\n",
    "\n",
    "- **Consultora**: La consultora se responsabiliza de la autenticidad de las firmas de los profesionales personalizados que suscriban el informe y el dictamen.\n",
    "- **Consultatne**:  Debe proporcionar a la consultora con exactitud, fidelidad y sin retaceos, la información necesaria para que ésta cumpla su cometido\n"
   ]
  },
  {
   "cell_type": "markdown",
   "metadata": {
    "slideshow": {
     "slide_type": "slide"
    }
   },
   "source": [
    "### Cláusulas liberatorias de responsabilidad civil\n",
    "\n",
    "Las consultoras imponen en sus contratos cláusulas exonerativas de responsabilidad.\n",
    "\n",
    "Sólo aceptan discutir esta responsabilidad si la consultante probare dolo o culpa grave en la obtención y manejo o procesamiento de los datos.\n"
   ]
  },
  {
   "cell_type": "markdown",
   "metadata": {
    "slideshow": {
     "slide_type": "slide"
    }
   },
   "source": [
    "### Naturaleza jurídica\n",
    "\n",
    "Dentro de las figuras clásicas, es ubicable, bien como una subespecie de la locación de obra.\n",
    " \n",
    "Aspectos como:\n",
    "- La transferencia de tecnología\n",
    "- Lo relativo a la propiedad intelectual \n",
    "- La obligación de guardar secreto\n",
    "\n",
    "**NO** aparecen en el contrato de locación de obra común.\n"
   ]
  }
 ],
 "metadata": {
  "celltoolbar": "Slideshow",
  "kernelspec": {
   "display_name": "Python 3",
   "language": "python",
   "name": "python3"
  },
  "language_info": {
   "codemirror_mode": {
    "name": "ipython",
    "version": 3
   },
   "file_extension": ".py",
   "mimetype": "text/x-python",
   "name": "python",
   "nbconvert_exporter": "python",
   "pygments_lexer": "ipython3",
   "version": "3.6.7"
  }
 },
 "nbformat": 4,
 "nbformat_minor": 2
}
